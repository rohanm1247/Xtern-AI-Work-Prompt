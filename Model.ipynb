{
 "cells": [
  {
   "cell_type": "markdown",
   "id": "b171988f",
   "metadata": {},
   "source": [
    "# Customer Order Prediction Model"
   ]
  },
  {
   "cell_type": "markdown",
   "id": "da0b5bdc",
   "metadata": {},
   "source": [
    "Before preparing our data, selecting a model, and training/testing, we need to import the necessary libraries/packages. "
   ]
  },
  {
   "cell_type": "markdown",
   "id": "78e2e4da",
   "metadata": {},
   "source": [
    "### Import Necessary Libraries"
   ]
  },
  {
   "cell_type": "code",
   "execution_count": 60,
   "id": "828898f9",
   "metadata": {},
   "outputs": [],
   "source": [
    "import pandas as pd\n",
    "import pickle\n",
    "from sklearn.model_selection import train_test_split, cross_val_score\n",
    "from sklearn.preprocessing import LabelEncoder\n",
    "from sklearn.neighbors import KNeighborsClassifier\n",
    "from sklearn.metrics import classification_report, accuracy_score\n",
    "import matplotlib.pyplot as plt"
   ]
  },
  {
   "cell_type": "markdown",
   "id": "c542df06",
   "metadata": {},
   "source": [
    "## Process for Data Preparation, Model Selection, Training and Testing"
   ]
  },
  {
   "cell_type": "markdown",
   "id": "b38b9eaa",
   "metadata": {},
   "source": [
    "Data Preparation:\n",
    "\n",
    "1. load dataset using pandas library.\n",
    "2. from EDA, we learned that there are no missing values in the dataset so we do not have to do any preprocessing in that regard. However, there are four categorical columns in the data (Year, Major, University, and Food Order) that we need to encode. We can do this using sklearn's LabelEncoder. For example, LabelEncoder will help us numerically represent the \"University\" column as values from 0 - 9. This encoding will be useful in ensuring our model will work. \n",
    "3. After encoding the categorical columns, we need to split the data into X (features) and y (target).\n",
    "4. Finally, we need to split the data into the training and test sets.\n",
    "\n",
    "Model Selection:\n",
    "\n",
    "After preparing the data, we need to choose a model for prediction. I chose KNN. It makes no assumptions about the underlying data distribution. It can handle both categorical and numerical features. The choice of K in KNN allows for flexibility in controlling the model's sensitivity to local variations in the data thus balancing bias and variance. \n",
    "\n",
    "Training and Testing:\n",
    "\n",
    "1. define a function that trains and pickles the model with an inputted k value. \n",
    "2. define a function that uses Cross-Validation accuracy to pick an optimal k value.\n",
    "3. train the model using the previously defined function. Input the training data as well as the optimal k value attained from Cross-Validation \n",
    "4. Evaluate the performance of the model using classification report"
   ]
  },
  {
   "cell_type": "markdown",
   "id": "59bfa863",
   "metadata": {},
   "source": [
    "## Data Preparation Function"
   ]
  },
  {
   "cell_type": "code",
   "execution_count": 42,
   "id": "59f89051",
   "metadata": {},
   "outputs": [],
   "source": [
    "def prepare_data(filename):\n",
    "    \n",
    "    # reads in the dataset\n",
    "    df = pd.read_csv(filename)\n",
    "    \n",
    "    # encodes the categorical columns into numerical values\n",
    "    label_encoders = {}\n",
    "    category_mappings = {}\n",
    "    categorical_features = ['Year', 'University', 'Major', 'Order']\n",
    "    for feature in categorical_features:\n",
    "        le = LabelEncoder()\n",
    "        df[feature] = le.fit_transform(df[feature])\n",
    "\n",
    "    # Creates a dictionary that explains what number each value in the categorical columns maps to \n",
    "        original_categories = le.classes_\n",
    "        encoded_values = le.transform(original_categories)\n",
    "        category_mapping = dict(zip(original_categories, encoded_values))\n",
    "        category_mappings[feature] = category_mapping\n",
    "    \n",
    "    # splits the data into X (features) and Y (target)\n",
    "    X = df[['Year', 'University', 'Major']]\n",
    "    y = df['Order']\n",
    "    \n",
    "    # splits the X and Y into training and test data\n",
    "    X_train, X_test, y_train, y_test = train_test_split(X, y, test_size = 0.2, random_state=42)\n",
    "    \n",
    "    return X_train, X_test, y_train, y_test, category_mappings"
   ]
  },
  {
   "cell_type": "markdown",
   "id": "e4f4f506",
   "metadata": {},
   "source": [
    "## Model Training & Pickle Function"
   ]
  },
  {
   "cell_type": "code",
   "execution_count": 43,
   "id": "23059f8e",
   "metadata": {},
   "outputs": [],
   "source": [
    "def train_and_pickle_model(X_train, y_train, k_value, model_path): \n",
    "        \n",
    "    # creates the model\n",
    "    knn = KNeighborsClassifier(n_neighbors=k_value)\n",
    "    knn.fit(X_train, y_train)\n",
    "    \n",
    "    # pickles the model\n",
    "    with open(model_path, 'wb') as model_file:\n",
    "        pickle.dump(knn, model_file)\n",
    "        \n",
    "    return knn "
   ]
  },
  {
   "cell_type": "markdown",
   "id": "4277498d",
   "metadata": {},
   "source": [
    "### Best K Value Selection"
   ]
  },
  {
   "cell_type": "code",
   "execution_count": 44,
   "id": "ad1239ff",
   "metadata": {},
   "outputs": [],
   "source": [
    "def best_k_selection(X_train, y_train):\n",
    "    \n",
    "    k_values = list(range(1,21))\n",
    "    cv_scores = []\n",
    "    \n",
    "    # calculates the cross-validation accuracy for models with varying choices of k\n",
    "    for k in k_values:\n",
    "        knn = KNeighborsClassifier(n_neighbors=k)\n",
    "        scores = cross_val_score(knn, X_train, y_train, cv=5, scoring='accuracy')\n",
    "        cv_scores.append(scores.mean())\n",
    "    \n",
    "    # plots the cross-validation accuracy for each k value\n",
    "    plt.plot(k_values, cv_scores)\n",
    "    plt.xlabel('K')\n",
    "    plt.ylabel('Cross-Validation Accuracy')\n",
    "    plt.title('Selecting the Best K Value')\n",
    "    plt.show()\n",
    "    \n",
    "    # gets the k value with the highest cross-validation accuracy\n",
    "    best_k = k_values[cv_scores.index(max(cv_scores))]\n",
    "        \n",
    "    return best_k"
   ]
  },
  {
   "cell_type": "markdown",
   "id": "10c3df51",
   "metadata": {},
   "source": [
    "## Training and Testing of Model"
   ]
  },
  {
   "cell_type": "code",
   "execution_count": 45,
   "id": "7984378d",
   "metadata": {},
   "outputs": [],
   "source": [
    "dataset_path = \"Xtern_TrainData.csv\"\n",
    "X_train, X_test, y_train, y_test, category_mappings = prepare_data(dataset_path)"
   ]
  },
  {
   "cell_type": "code",
   "execution_count": 32,
   "id": "e5181789",
   "metadata": {},
   "outputs": [
    {
     "data": {
      "text/plain": [
       "{'Year': {'Year 1': 0, 'Year 2': 1, 'Year 3': 2, 'Year 4': 3},\n",
       " 'University': {'Ball State University': 0,\n",
       "  'Butler University': 1,\n",
       "  'DePauw University': 2,\n",
       "  'Indiana State University': 3,\n",
       "  'Indiana University Bloomington': 4,\n",
       "  'Indiana University-Purdue University Indianapolis (IUPUI)': 5,\n",
       "  'Purdue University': 6,\n",
       "  'University of Evansville': 7,\n",
       "  'University of Notre Dame': 8,\n",
       "  'Valparaiso University': 9},\n",
       " 'Major': {'Accounting': 0,\n",
       "  'Anthropology': 1,\n",
       "  'Astronomy': 2,\n",
       "  'Biology': 3,\n",
       "  'Business Administration': 4,\n",
       "  'Chemistry': 5,\n",
       "  'Civil Engineering': 6,\n",
       "  'Economics': 7,\n",
       "  'Finance': 8,\n",
       "  'Fine Arts': 9,\n",
       "  'International Business': 10,\n",
       "  'Marketing': 11,\n",
       "  'Mathematics': 12,\n",
       "  'Mechanical Engineering': 13,\n",
       "  'Music': 14,\n",
       "  'Philosophy': 15,\n",
       "  'Physics': 16,\n",
       "  'Political Science': 17,\n",
       "  'Psychology': 18,\n",
       "  'Sociology': 19},\n",
       " 'Order': {'Breaded Pork Tenderloin Sandwich': 0,\n",
       "  'Cornbread Hush Puppies': 1,\n",
       "  'Fried Catfish Basket': 2,\n",
       "  'Hoosier BBQ Pulled Pork Sandwich': 3,\n",
       "  'Indiana Buffalo Chicken Tacos (3 tacos)': 4,\n",
       "  'Indiana Corn on the Cob (brushed with garlic butter)': 5,\n",
       "  'Indiana Pork Chili': 6,\n",
       "  'Sugar Cream Pie': 7,\n",
       "  'Sweet Potato Fries': 8,\n",
       "  'Ultimate Grilled Cheese Sandwich (with bacon and tomato)': 9}}"
      ]
     },
     "execution_count": 32,
     "metadata": {},
     "output_type": "execute_result"
    }
   ],
   "source": [
    "category_mappings"
   ]
  },
  {
   "cell_type": "markdown",
   "id": "d8e1cb9d",
   "metadata": {},
   "source": [
    "The above dictionary \"category_mappings\" is provided to give an understanding of how the different values in the categorical columns are encoded.  "
   ]
  },
  {
   "cell_type": "code",
   "execution_count": 46,
   "id": "09459186",
   "metadata": {},
   "outputs": [
    {
     "data": {
      "image/png": "[encoded data removed]",
      "text/plain": [
       "<Figure size 640x480 with 1 Axes>"
      ]
     },
     "metadata": {},
     "output_type": "display_data"
    }
   ],
   "source": [
    "best_k = best_k_selection(X_train, y_train)"
   ]
  },
  {
   "cell_type": "code",
   "execution_count": 47,
   "id": "777f2bbd",
   "metadata": {},
   "outputs": [
    {
     "name": "stdout",
     "output_type": "stream",
     "text": [
      "The best k value is 8\n"
     ]
    }
   ],
   "source": [
    "print(\"The best k value is\", best_k)"
   ]
  },
  {
   "cell_type": "code",
   "execution_count": 48,
   "id": "5f60ee45",
   "metadata": {},
   "outputs": [],
   "source": [
    "model_path = 'knn_model.pk1'\n",
    "trained_knn = train_and_pickle_model(X_train, y_train, best_k, model_path)"
   ]
  },
  {
   "cell_type": "code",
   "execution_count": 50,
   "id": "2290160e",
   "metadata": {},
   "outputs": [],
   "source": [
    "y_pred = trained_knn.predict(X_test)"
   ]
  },
  {
   "cell_type": "code",
   "execution_count": 61,
   "id": "af2ff299",
   "metadata": {},
   "outputs": [
    {
     "name": "stdout",
     "output_type": "stream",
     "text": [
      "              precision    recall  f1-score   support\n",
      "\n",
      "           0       0.38      0.39      0.39        94\n",
      "           1       0.41      0.33      0.37       112\n",
      "           2       0.60      0.41      0.49       107\n",
      "           3       0.45      0.58      0.51       103\n",
      "           4       0.53      0.25      0.34        93\n",
      "           5       0.51      0.68      0.58        84\n",
      "           6       0.47      0.77      0.58        95\n",
      "           7       0.56      0.32      0.40       110\n",
      "           8       0.45      0.41      0.43        98\n",
      "           9       0.39      0.56      0.46       104\n",
      "\n",
      "    accuracy                           0.46      1000\n",
      "   macro avg       0.48      0.47      0.46      1000\n",
      "weighted avg       0.48      0.46      0.45      1000\n",
      "\n"
     ]
    }
   ],
   "source": [
    "print(classification_report(y_test, y_pred))"
   ]
  }
 ],
 "metadata": {
  "kernelspec": {
   "display_name": "Python 3 (ipykernel)",
   "language": "python",
   "name": "python3"
  },
  "language_info": {
   "codemirror_mode": {
    "name": "ipython",
    "version": 3
   },
   "file_extension": ".py",
   "mimetype": "text/x-python",
   "name": "python",
   "nbconvert_exporter": "python",
   "pygments_lexer": "ipython3",
   "version": "3.11.4"
  }
 },
 "nbformat": 4,
 "nbformat_minor": 5
}
